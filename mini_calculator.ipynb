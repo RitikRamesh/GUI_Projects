{
 "cells": [
  {
   "cell_type": "code",
   "execution_count": 1,
   "metadata": {},
   "outputs": [],
   "source": [
    "import tkinter as tk\n",
    "def sum_result():\n",
    "    num1 = eval(input_num1.get())\n",
    "    num2 = eval(input_num2.get())\n",
    "    result_of_nums = num1 + num2\n",
    "    tk.Label(text=f'Sum : {result_of_nums}',font=('Helvetica',18),pady=20).grid(row=4,column=0,columnspan=2)\n",
    "root = tk.Tk()\n",
    "root.geometry('300x400')\n",
    "root.title('Mini Calculator')\n",
    "app_heading = tk.Label(text='Find sum',font=('Futura',24),bg= '#FF9500',fg='white',padx=10,pady=15)\n",
    "app_heading.grid(row=0,column=0,columnspan=2,pady=10)\n",
    "num1_label = tk.Label(text='Number 1 ',font=('Helvetica',15),bg= '#000735',fg='#D4D4D2',pady=20)\n",
    "num1_label.grid(row=1,column=0,pady=5)\n",
    "num2_label = tk.Label(text='Number 2 ',font=('Helvetica',15),bg= '#000735',fg='#D4D4D2',pady=20)\n",
    "num2_label.grid(row=2,column=0,pady=5)\n",
    "input_num1 = tk.Entry()\n",
    "input_num1.grid(row=1,column=1,pady=5)\n",
    "input_num2 = tk.Entry()\n",
    "input_num2.grid(row=2,column=1,)\n",
    "result = tk.Button(text='Result',font=('Helvetica',12),padx=10,pady=7,relief='ridge',command=sum_result)\n",
    "result.grid(row=3,column=1,pady=10,padx=20)\n",
    "root.mainloop()"
   ]
  }
 ],
 "metadata": {
  "kernelspec": {
   "display_name": "base",
   "language": "python",
   "name": "python3"
  },
  "language_info": {
   "codemirror_mode": {
    "name": "ipython",
    "version": 3
   },
   "file_extension": ".py",
   "mimetype": "text/x-python",
   "name": "python",
   "nbconvert_exporter": "python",
   "pygments_lexer": "ipython3",
   "version": "3.9.13"
  },
  "orig_nbformat": 4
 },
 "nbformat": 4,
 "nbformat_minor": 2
}
