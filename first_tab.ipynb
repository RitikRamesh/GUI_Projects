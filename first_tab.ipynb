{
 "cells": [
  {
   "attachments": {},
   "cell_type": "markdown",
   "metadata": {},
   "source": [
    "# To change the size of window"
   ]
  },
  {
   "cell_type": "code",
   "execution_count": 1,
   "metadata": {},
   "outputs": [],
   "source": [
    "import tkinter as tk\n",
    "\n",
    "root = tk.Tk()\n",
    "root.geometry('400x300')\n",
    "root.mainloop()"
   ]
  },
  {
   "attachments": {},
   "cell_type": "markdown",
   "metadata": {},
   "source": [
    "# To change the title"
   ]
  },
  {
   "cell_type": "code",
   "execution_count": 5,
   "metadata": {},
   "outputs": [],
   "source": [
    "root = tk.Tk()\n",
    "root.title('Calculator')\n",
    "root.geometry('600x800')\n",
    "root.mainloop()"
   ]
  },
  {
   "attachments": {},
   "cell_type": "markdown",
   "metadata": {},
   "source": [
    "# To show text"
   ]
  },
  {
   "cell_type": "code",
   "execution_count": 6,
   "metadata": {},
   "outputs": [],
   "source": [
    "root = tk.Tk()\n",
    "root.title('Calculator')\n",
    "root.geometry('400x500')\n",
    "text_heading = tk.Label(root,text='Simple Calculator', font=('Helvetica', 20,'bold'))\n",
    "text_heading.pack()\n",
    "root.mainloop()"
   ]
  },
  {
   "attachments": {},
   "cell_type": "markdown",
   "metadata": {},
   "source": [
    "# To write down above code in one line"
   ]
  },
  {
   "cell_type": "code",
   "execution_count": 7,
   "metadata": {},
   "outputs": [],
   "source": [
    "root = tk.Tk()\n",
    "root.title('Calculator')\n",
    "root.geometry('400x500')\n",
    "tk.Label(root,text='Simple Calculator', font=('Helvetica', 20,'bold')).pack()\n",
    "\n",
    "root.mainloop()"
   ]
  },
  {
   "cell_type": "code",
   "execution_count": 4,
   "metadata": {},
   "outputs": [],
   "source": [
    "root = tk.Tk()\n",
    "root.title('Calculator')\n",
    "root.geometry('400x500')\n",
    "text_heading = tk.Label(root,text='Simple Calculator', font=('Helvetica', 20,'bold'),\n",
    "                        bg = '#ff9500', padx= 15,pady=10)\n",
    "text_heading.pack(pady='10',anchor='sw',fill='x')\n",
    "root.mainloop()"
   ]
  },
  {
   "cell_type": "code",
   "execution_count": 2,
   "metadata": {},
   "outputs": [],
   "source": [
    "root = tk.Tk()\n",
    "root.title('Calculator')\n",
    "root.geometry('400x500')\n",
    "text_heading = tk.Label(root,text='Simple Calculator', font=('Helvetica', 20,'bold')\n",
    "                        ,bg='#1c1c1c', padx= 20,pady=20,fg='#d4d4d2')\n",
    "text_heading.pack(pady=50)\n",
    "sub_heading = tk.Label(root,text='Let start with some calculation',font=('Futura',12)\n",
    "                       ,bg='#1c1c1c', padx= 10,pady=10,fg='#d4d4d2')\n",
    "sub_heading.pack(pady=10)\n",
    "root.mainloop()"
   ]
  }
 ],
 "metadata": {
  "kernelspec": {
   "display_name": "base",
   "language": "python",
   "name": "python3"
  },
  "language_info": {
   "codemirror_mode": {
    "name": "ipython",
    "version": 3
   },
   "file_extension": ".py",
   "mimetype": "text/x-python",
   "name": "python",
   "nbconvert_exporter": "python",
   "pygments_lexer": "ipython3",
   "version": "3.9.13"
  },
  "orig_nbformat": 4
 },
 "nbformat": 4,
 "nbformat_minor": 2
}
